{
 "cells": [
  {
   "cell_type": "markdown",
   "metadata": {},
   "source": [
    "# Exploratory Analysis: $\\Phi$* Structures"
   ]
  },
  {
   "cell_type": "markdown",
   "metadata": {},
   "source": [
    "Here, we have two data set files (one for each channel): ERP values from channel 294, and from channel 187. I am unaware of the context of this data (and I assume that the context is not entirely necessary); the important point is that the data is stored in a variable named \"allERP\", which consists of a 1x5 array; each element of this array itself contains ERP values in a roughly 115x3054 (trial? x sample) array. The sampling rate was 2034.5 Hz from what I can gather from the DEMO_ERP_new.m script. "
   ]
  },
  {
   "cell_type": "markdown",
   "metadata": {},
   "source": [
    "Our goal is to calculate trial-by-trial $\\Phi$\\* structures for the two-channel subsystem 187-294 and visually present mean (across all trials) $\\Phi$\\* values over time. The background of $\\Phi$\\* and integrated information theory (IIT) is outside the scope of this notebook though suffice to say that they are a theoretical measure of consciousness by quantifying the information a system possesses \"beyond the information of its constituent parts\"."
   ]
  },
  {
   "cell_type": "markdown",
   "metadata": {},
   "source": [
    "*Question for Nao* Are channels 187 and 294 unipolar or bipolar channels? Should I do re-referencing?"
   ]
  },
  {
   "cell_type": "markdown",
   "metadata": {},
   "source": [
    "I have originally written this exploratory analysis in Julia. Julia is a relatively new language that purportedly mixes the ease of Pythonic-like syntax (though the syntax is actually much more similar to Matlab/Octave) with the speed of C. There are many more cool things about Julia that other people will be able to tell you much more about, but the importance to data science is as promising open source language once its userbase grows. The reason I did this was simply because I had Julia installed on my laptop and not Matlab/Octave and I did not want to install another language when Julia should suffice for now - and, of course, it's nice to try new things).\n",
    "\n",
    "If you'd like to see just how similar Julia syntax is to Matlab, check out http://cheatsheets.quantecon.org/. \n",
    "\n",
    "Once finished, I will rewrite this analysis in Matlab. Since the syntax is so similar, this should not be too arduous."
   ]
  },
  {
   "cell_type": "markdown",
   "metadata": {},
   "source": [
    "# Data Loading\n",
    "\n",
    "First, we simply load the data. We make use of a package - \"MAT\" (Kornblith & Holy) - to read the .mat file the data is stored in. If you do not have this package, then you will have to run `Pkg.add(\"MAT\")` in Julia before proceeding."
   ]
  },
  {
   "cell_type": "code",
   "execution_count": 1,
   "metadata": {
    "collapsed": true
   },
   "outputs": [],
   "source": [
    "using MAT"
   ]
  },
  {
   "cell_type": "markdown",
   "metadata": {},
   "source": [
    "We will want to use both channel 187 and channel 294 for our two-channel subsystem so, of course, we load both sets of data."
   ]
  },
  {
   "cell_type": "markdown",
   "metadata": {},
   "source": [
    "Just a quick note here - Julia scripting doesn't require the use of semicolons to suppress console output, but writing to the interactive shell *does*. Since we are using a Jupyter notebook here, I will (sometimes when I want to suppress output) use semicolons but they're not crucial."
   ]
  },
  {
   "cell_type": "code",
   "execution_count": 2,
   "metadata": {
    "collapsed": false
   },
   "outputs": [],
   "source": [
    "file_187 = matread(\"153_4sessions_li187.mat\");\n",
    "file_294 = matread(\"153_4sessions_li294.mat\");"
   ]
  },
  {
   "cell_type": "markdown",
   "metadata": {},
   "source": [
    "These files are read into Julia as a dictionary - you can think of this to be roughly analagous to a structure 1x1 structure with possibly many fields (depending on how big the dictionary is). Each Matlab structure field is like a Julia dictionary \"key\" - you can access a dictionary by indexing using a key (which is often a string) just like you can index a structure using a field.\n",
    "\n",
    "Let's have a look what keys are in our file_187 dictionary."
   ]
  },
  {
   "cell_type": "code",
   "execution_count": 3,
   "metadata": {
    "collapsed": false
   },
   "outputs": [
    {
     "name": "stdout",
     "output_type": "stream",
     "text": [
      "String[\"allERP\"]\n",
      "String[\"allERP\"]\n"
     ]
    }
   ],
   "source": [
    "println(keys(file_187))\n",
    "println(keys(file_294))"
   ]
  },
  {
   "cell_type": "markdown",
   "metadata": {},
   "source": [
    "Both data files have a single key - \"allERP\" (which Julia is telling us is of type \"String\"). Let's see what's contained in each."
   ]
  },
  {
   "cell_type": "code",
   "execution_count": 4,
   "metadata": {
    "collapsed": false
   },
   "outputs": [
    {
     "name": "stdout",
     "output_type": "stream",
     "text": [
      "Array{Any,2}\n",
      "(1,5)\n"
     ]
    }
   ],
   "source": [
    "data_187 = file_187[\"allERP\"]\n",
    "data_294 = file_294[\"allERP\"]\n",
    "\n",
    "println(typeof(data_187))\n",
    "println(size(data_187))"
   ]
  },
  {
   "cell_type": "markdown",
   "metadata": {},
   "source": [
    "Okay, as expected, our variables data_187 and data_294 are storing a 1x5 array. Let's have a look at what's stored in each in each of the five elements."
   ]
  },
  {
   "cell_type": "code",
   "execution_count": 5,
   "metadata": {
    "collapsed": false
   },
   "outputs": [
    {
     "name": "stdout",
     "output_type": "stream",
     "text": [
      "Array{Float32,2}\n",
      "(118,3054)\n",
      "Array{Float32,2}\n",
      "(113,3054)\n",
      "Array{Float32,2}\n",
      "(116,3054)\n",
      "Array{Float32,2}\n",
      "(115,3054)\n",
      "Array{Float32,2}\n",
      "(111,3054)\n"
     ]
    }
   ],
   "source": [
    "for i in 1:5\n",
    "    println(typeof(data_187[i]))\n",
    "    println(size(data_187[i]))\n",
    "end"
   ]
  },
  {
   "cell_type": "markdown",
   "metadata": {},
   "source": [
    "Again, as expected, each of the five elements is itself an array which seems to contain our actual data in a (roughly) 115x3054 \n",
    "\n",
    "From what I can gather from the tutorial materials, each of the 5 elements corresponds to a \"Class\" of visual stimuli (upright faces, inverted faces, houses, tools, Mondrian patterns) and each row of the subsequent arrays corresponds to the actual trials."
   ]
  },
  {
   "cell_type": "markdown",
   "metadata": {},
   "source": [
    "So now, to clarify, our loaded data is structured as follows:\n",
    "\n",
    "* data_187 and data_294 are 1x5 arrays (1 x visual stimulus class)\n",
    "     * Each array contains a roughly 115x3054 array (trial x sample) of raw ERP values"
   ]
  },
  {
   "cell_type": "markdown",
   "metadata": {},
   "source": [
    "# Calculating Covariance Matrices on a Single Trial\n",
    "\n",
    "To calculate $\\Phi$\\*, we first need to bin the data and compute covariance matrices in each time bin. Let's consider data from only the first class at this stage.\n",
    "\n",
    "We have two 118x3054 matrices of ERP values. We will bin the data into bin widths $T$ for each trial to estimate the covariance matrices using the following formula:\n",
    "\n",
    "$Cov(X, Y) = \\frac{(X - E(X)) \\times (Y - E(Y))}{N}$\n",
    "\n",
    "for channel x sample matrices X and Y, where E(X) and E(Y) denote the mean values across the 2nd dimension of that matrix. In short, the mean of all the products of X deviances and Y deviances from their respective mean values."
   ]
  },
  {
   "cell_type": "markdown",
   "metadata": {},
   "source": [
    "As an example, let's consider the very first time bin, say, from sample 1 to 200, for the very first trial."
   ]
  },
  {
   "cell_type": "code",
   "execution_count": 6,
   "metadata": {
    "collapsed": true
   },
   "outputs": [],
   "source": [
    "# Specify T and tau values\n",
    "T = 200;\n",
    "tau = 8;"
   ]
  },
  {
   "cell_type": "code",
   "execution_count": 7,
   "metadata": {
    "collapsed": false
   },
   "outputs": [],
   "source": [
    "current_bin_187 = data_187[1][1, 1:T];\n",
    "current_bin_294 = data_294[1][1, 1:T];"
   ]
  },
  {
   "cell_type": "markdown",
   "metadata": {},
   "source": [
    "Now, for convenience, we will define the past and present states for a time bin to be wholly contained *within* that time bin - i.e. for a time bin width 200, the past and present states will both contain 192 samples. \n",
    "\n",
    "Let's now take past and present subsets and then compute the covariances using the formula above."
   ]
  },
  {
   "cell_type": "code",
   "execution_count": 8,
   "metadata": {
    "collapsed": false
   },
   "outputs": [
    {
     "name": "stdout",
     "output_type": "stream",
     "text": [
      "Float32[594.854 -1071.22; -1071.22 6124.42]\n",
      "Float32[520.528 -1333.21; -700.807 5144.79]\n"
     ]
    }
   ],
   "source": [
    "current_bin_combined = vcat(current_bin_187', current_bin_294');\n",
    "\n",
    "state_past = current_bin_combined[:, 1:(T - tau)];\n",
    "state_present = current_bin_combined[:, (1 + tau):T];\n",
    "\n",
    "mean_past = mean(state_past, 2);\n",
    "mean_present = mean(state_present, 2);\n",
    "\n",
    "mean_past_array = repeat(mean_past, inner = [1, (T - tau)]);\n",
    "mean_present_array = repeat(mean_present, inner = [1, (T - tau)]);\n",
    "\n",
    "cov_present = ((state_present - mean_present_array) *\n",
    "               (state_present - mean_present_array)') / (T - tau);\n",
    "\n",
    "cov_cross = ((state_present - mean_present_array) *\n",
    "             (state_past - mean_past_array)') / (T - tau);\n",
    "\n",
    "println(cov_present)\n",
    "println(cov_cross)\n",
    "\n",
    "\n"
   ]
  },
  {
   "cell_type": "markdown",
   "metadata": {},
   "source": [
    "# Calculating $\\Phi$\\* on a Single Trial\n",
    "\n",
    "To calculate phi, we will make use of phi_gauss.m from the practical_phi toolbox (Oizumi). \n",
    "\n",
    "To use this, one method is to call Matlab from within Julia. This will require the MATLAB package; if this is not already installed, you will have to run `Pkg.add(\"MATLAB\")` from within Julia before proceeding."
   ]
  },
  {
   "cell_type": "code",
   "execution_count": 23,
   "metadata": {
    "collapsed": false
   },
   "outputs": [
    {
     "ename": "LoadError",
     "evalue": "LoadError: Base.LinAlg.LAPACKException(1)\nwhile loading In[23], in expression starting on line 1",
     "output_type": "error",
     "traceback": [
      "LoadError: Base.LinAlg.LAPACKException(1)\nwhile loading In[23], in expression starting on line 1",
      "",
      " in chklapackerror(::Int32) at .\\linalg\\lapack.jl:32",
      " in trtrs!(::Char, ::Char, ::Char, ::Array{Float64,2}, ::Array{Float64,2}) at .\\linalg\\lapack.jl:3289",
      " in inv(::UpperTriangular{Float64,Array{Float64,2}}) at .\\linalg\\triangular.jl:452",
      " in inv(::Array{Float64,2}) at .\\linalg\\dense.jl:360",
      " in phi_gauss(::Array{Float32,2}, ::Array{Float32,2}) at .\\In[22]:109"
     ]
    }
   ],
   "source": [
    "phi_gauss(cov_present, cov_cross)"
   ]
  },
  {
   "cell_type": "code",
   "execution_count": null,
   "metadata": {
    "collapsed": true
   },
   "outputs": [],
   "source": [
    "using MATLAB\n",
    "\n",
    "phi, I, H = mxcall(:phi_gauss, 3, cov_present, cov_cross)\n",
    "\n",
    "println(phi)\n",
    "println(I)\n",
    "println(H)"
   ]
  },
  {
   "cell_type": "markdown",
   "metadata": {},
   "source": [
    "# Iterating Over All Trials\n"
   ]
  },
  {
   "cell_type": "markdown",
   "metadata": {},
   "source": [
    "# Appendix\n"
   ]
  },
  {
   "cell_type": "markdown",
   "metadata": {},
   "source": [
    "## cov_cond.jl\n",
    "\n",
    "Ported from practical_phi toolbox's cov_cond.m (Oizumi)."
   ]
  },
  {
   "cell_type": "code",
   "execution_count": 9,
   "metadata": {
    "collapsed": false
   },
   "outputs": [
    {
     "data": {
      "text/plain": [
       "cov_cond (generic function with 1 method)"
      ]
     },
     "execution_count": 9,
     "metadata": {},
     "output_type": "execute_result"
    }
   ],
   "source": [
    "function cov_cond(Cov_X, Cov_XY, Cov_Y)\n",
    "    \n",
    "    # Compute partial covariance of X given Y\n",
    "    # Ported to Julia from practical_phi toolbox (Oizumi)\n",
    "    # Here, we can ONLY make the assumption that Cov_Y = Cov_X. This is for \n",
    "    # convenience of porting at the moment, but may be changed later.\n",
    "    \n",
    "    # INPUTS:\n",
    "    # Cov_X and Cov_Y are covariance matrices (default Cov_Y = Cov_X)\n",
    "    # Cov_XY is a cross-covariance matrix of X and Y\n",
    "    # OUTPUTS\n",
    "    # Cov_X_Y: partial covariance of X given Y\n",
    "\n",
    "    Cov_Y = Cov_X;\n",
    "\n",
    "    Cov_X_Y = Cov_X - Cov_XY/Cov_Y*Cov_XY';\n",
    "    \n",
    "    return Cov_X_Y\n",
    "    \n",
    "end\n"
   ]
  },
  {
   "cell_type": "markdown",
   "metadata": {},
   "source": [
    "## logdet.jl\n",
    "\n",
    "Ported from practical_phi toolbox's logdet.m"
   ]
  },
  {
   "cell_type": "code",
   "execution_count": 10,
   "metadata": {
    "collapsed": false
   },
   "outputs": [
    {
     "data": {
      "text/plain": [
       "logdet (generic function with 2 methods)"
      ]
     },
     "execution_count": 10,
     "metadata": {},
     "output_type": "execute_result"
    }
   ],
   "source": [
    "function logdet(X,Const=0)\n",
    "\n",
    "    # Compute log of determinant of X\n",
    "    # Ported from logdet.m (Oizumi)\n",
    "\n",
    "\n",
    "    X = float(X/10)^(float(Const));\n",
    "\n",
    "    N = size(X,1);\n",
    "    logdet_X = log(det(X)) + Const*N*log(10);\n",
    "    \n",
    "    return logdet_X\n",
    "    \n",
    "end"
   ]
  },
  {
   "cell_type": "markdown",
   "metadata": {},
   "source": [
    "## entropy_gauss.jl\n",
    "\n",
    "Ported from practical_phi toolbox's entropy_gauss.m (Oizumi)."
   ]
  },
  {
   "cell_type": "code",
   "execution_count": 11,
   "metadata": {
    "collapsed": false
   },
   "outputs": [
    {
     "data": {
      "text/plain": [
       "entropy_gauss (generic function with 2 methods)"
      ]
     },
     "execution_count": 11,
     "metadata": {},
     "output_type": "execute_result"
    }
   ],
   "source": [
    "function entropy_gauss(Cov_X, Const=0)\n",
    "    \n",
    "    # Computes entropy under gaussian assumption\n",
    "    # Ported to Julia from entropy_gauss.m (Oizumi)\n",
    "    # INPUTS\n",
    "    # Cov_X: covariance of data X\n",
    "    # Const: Cov_X is divided by 10 ^ Const (default: 0)\n",
    "    # OUTPUTS\n",
    "    # H: entropy of X\n",
    "\n",
    "\n",
    "    n = size(Cov_X, 1);\n",
    "    H = 1/2*logdet(Cov_X, Const) + 1/2*n*log(2*pi*exp(1));\n",
    "    \n",
    "    return H\n",
    "    \n",
    "end"
   ]
  },
  {
   "cell_type": "markdown",
   "metadata": {},
   "source": [
    "## trace.jl\n",
    "\n",
    "To replace Matlab's trace function"
   ]
  },
  {
   "cell_type": "code",
   "execution_count": 12,
   "metadata": {
    "collapsed": false
   },
   "outputs": [
    {
     "data": {
      "text/plain": [
       "trace_mat (generic function with 1 method)"
      ]
     },
     "execution_count": 12,
     "metadata": {},
     "output_type": "execute_result"
    }
   ],
   "source": [
    "function trace_mat(matrix)\n",
    "    \n",
    "    return (sum(Diagonal(matrix)))\n",
    "    \n",
    "end\n"
   ]
  },
  {
   "cell_type": "markdown",
   "metadata": {},
   "source": [
    "## phi_gauss.m\n",
    "\n",
    "Ported from practical_phi's phi_gauss.m (Oizumi)."
   ]
  },
  {
   "cell_type": "code",
   "execution_count": 22,
   "metadata": {
    "collapsed": false
   },
   "outputs": [
    {
     "name": "stderr",
     "output_type": "stream",
     "text": [
      "WARNING: Method definition phi_gauss("
     ]
    },
    {
     "data": {
      "text/plain": [
       "phi_gauss (generic function with 1 method)"
      ]
     },
     "execution_count": 22,
     "metadata": {},
     "output_type": "execute_result"
    },
    {
     "name": "stderr",
     "output_type": "stream",
     "text": [
      "Any, Any, Any...) in module Main at In[20]:38 overwritten at In[22]:38.\n"
     ]
    }
   ],
   "source": [
    "function phi_gauss(Cov_X, Cov_XY, optional...)\n",
    "    \n",
    "    # Computes practical measure of integrated information under assumption \n",
    "    # that probability distribution of data is Gaussian\n",
    "    # Ported to Julia from phi_gauss.m (Oizumi)\n",
    "    \n",
    "    # Inputs:\n",
    "    # X and Y represent the present and past state of the system respectively\n",
    "    # Cov_X: Covariance matrix of X (present)\n",
    "    # Cov_XY: Cross-covariance matrix of X (present) and Y (past)\n",
    "    # Z: labels of elements according to which system is partitioned \n",
    "    # (default: atomic partition e.g. Z = [1 2] for 2-element system)\n",
    "    # Cov_Y: covariance of Y (past state) (default: Cov_Y = Cov_X)\n",
    "    # paras: parameters for gradient ascent\n",
    "    # -- paras = [beta_init gamma iter_max threshold]\n",
    "    # -- beta_init: initial value of beta\n",
    "    # -- gamma: the speed of gradient ascent. If this value gets bigger, \n",
    "    # -- the convergence get's faster, but it may become unstable\n",
    "    # -- iter_max: the maximum number of iteration\n",
    "    # -- threshold: iteration stops once residual reaches this threshold value\n",
    "\n",
    "    # OUTPUT\n",
    "    # phi_star: practical measure of integrated information based on mismatched\n",
    "    # decoding (Oizumi et al. 2016)\n",
    "    # I: mutual information\n",
    "    # H_cond: conditional entropy, H(X|Y)\n",
    "    # phi_MI: Barrett and Seth's measure of phi based on MI (Barrett $ Seth 2011)\n",
    "    # phi_H: Barrett and Seth's measure of phi based on conditional entropy \n",
    "    # (Barrett and Seth 2011)\n",
    "    #beta: optimised beta value that maximises I*\n",
    "\n",
    "\n",
    "    # REFERENCE: Oizumi M, Amari S-i, Yanagawa T, Fujii N, Tsuchiya N (2016) \n",
    "    # Measuring Integrated Information from the Decoding Perspective. \n",
    "    # PLoS Comput Biol 12(1): e1004654. doi:10.1371/journal.pcbi.1004654\n",
    "\n",
    "\n",
    "    N = size(Cov_X,1); # number of elements\n",
    "    if length(optional) < 1\n",
    "        Z = collect(1: 1: N);\n",
    "    else\n",
    "        Z = optional[1]\n",
    "    end\n",
    "    if length(optional) < 2\n",
    "        Cov_Y = Cov_X;\n",
    "    else\n",
    "        Cov_Y = optional[2]\n",
    "    end\n",
    "    if length(optional) < 3\n",
    "        beta_init = 1;\n",
    "        gamma = 10^-3.0;\n",
    "        iter_max = 10^4.0;\n",
    "        threshold = 10^-3.0;\n",
    "    else\n",
    "        paras = optional[3]\n",
    "        beta_init = paras[1];\n",
    "        gamma = paras[2];\n",
    "        iter_max = paras[3];\n",
    "        threshold = paras[4];\n",
    "    end\n",
    "\n",
    "    Cov_X_Y = cov_cond(Cov_X,Cov_XY,Cov_Y); # conditional covariance matrix\n",
    "    Cov_Y_X = cov_cond(Cov_Y,Cov_XY',Cov_X); # conditional covariance matrix\n",
    "    H_cond2 = entropy_gauss(Cov_Y_X,-1);\n",
    "\n",
    "    H_cond = entropy_gauss(Cov_X_Y,-1); # conditional entropy in the whole system\n",
    "    if isinf(H_cond) == 1\n",
    "        println(\"Alert: Infinite Entropy\\n\")\n",
    "    end\n",
    "    if imag(H_cond) != 0\n",
    "        println(\"Alert: Complex Entropy\\n\")\n",
    "    end\n",
    "    I = entropy_gauss(Cov_X,-1) - H_cond; # mutual information\n",
    "\n",
    "    N_c = maximum(Z); # number of subsystems\n",
    "    H_cond_p = zeros(N_c,1);\n",
    "    H_cond_p2 = zeros(N_c,1);\n",
    "    I_p = zeros(N_c,1);\n",
    "    H_p = zeros(N_c,1);\n",
    "\n",
    "    M_cell = Array{Any}(N_c);\n",
    "    for i=1: N_c\n",
    "        M_cell[i] = find(Z==i);\n",
    "    end\n",
    "\n",
    "    X_D = zeros(N,N); # Cov_D(X^t-tau)\n",
    "    XX_D = zeros(N,N); # Cov_D(X^t,X^t-tau)\n",
    "    C_D_cond = zeros(N,N);\n",
    "    for i=1: N_c\n",
    "        M = M_cell[i];\n",
    "        Cov_X_p = Cov_X[M,M];\n",
    "        Cov_Y_p = Cov_Y[M,M];\n",
    "        Cov_XY_p = Cov_XY[M,M];\n",
    "        Cov_X_Y_p = cov_cond(Cov_X_p,Cov_XY_p,Cov_Y_p);\n",
    "\n",
    "        H_cond_p[i] = entropy_gauss(Cov_X_Y_p);\n",
    "        H_p[i] = entropy_gauss(Cov_X_p);\n",
    "        I_p[i] = H_p[i] - H_cond_p[i];\n",
    "\n",
    "        X_D[M,M] = Cov_Y_p;\n",
    "        XX_D[M,M] = Cov_XY_p;\n",
    "        C_D_cond[M,M] = Cov_X_Y_p;\n",
    "\n",
    "        Cov_Y_X_p = cov_cond(Cov_Y_p,Cov_XY_p',Cov_X_p);\n",
    "        H_cond_p2[i] = entropy_gauss(Cov_Y_X_p);\n",
    "    end\n",
    "    H_cond_D = sum(H_cond_p);\n",
    "\n",
    "    S = inv(C_D_cond);\n",
    "    Cov_Y_inv = inv(Cov_Y);\n",
    "\n",
    "    C_D_beta1_inv = X_D\\XX_D'*S*XX_D/X_D;\n",
    "    S_left = S'*XX_D/X_D;\n",
    "    S_right = X_D\\XX_D'*S;\n",
    "\n",
    "    I_s_d_Const_part = trace_mat(inv(C_D_cond)*XX_D*inv(X_D)*Cov_XY);\n",
    "\n",
    "    # find beta by gradient ascent\n",
    "    beta = beta_init;\n",
    "    for iter=1: iter_max\n",
    "        C_D_beta_inv = beta*C_D_beta1_inv;\n",
    "        Q_inv = Cov_Y_inv + C_D_beta_inv;\n",
    "        Q = inv(Q_inv);\n",
    "\n",
    "        Q_d = -Q*C_D_beta1_inv*Q; #derivative of Q\n",
    "        R_d = -C_D_beta1_inv - beta*S_left*(2*Q + beta*Q_d)*S_right; # derivative of R\n",
    "\n",
    "        I_s_d = 1/2*(-trace_mat(Q_inv*Q_d) + trace(Cov_X*R_d)) + I_s_d_Const_part; # derivative of I_s\n",
    "\n",
    "        # println(\"iter=%d beta=%f I_s_d=%f\\n\",iter, beta,I_s_d);\n",
    "\n",
    "        if abs(I_s_d) < threshold\n",
    "            # fprintf(\"Iteration stopped at iter=%d. beta=%f\\n\",iter,beta);\n",
    "            break;\n",
    "        end\n",
    "\n",
    "        beta = beta + gamma*I_s_d;\n",
    "\n",
    "    end\n",
    "\n",
    "    if iter == iter_max\n",
    "        # println(\"Iteration did not converge. I_s_d=%f beta=%f\\n\",I_s_d,beta);\n",
    "    end\n",
    "\n",
    "    ## compute I* with optimized beta\n",
    "    norm_t = -1/2*logdet(Q) + 1/2*logdet(Cov_Y);\n",
    "    R = - beta*C_D_beta1_inv - beta^2*S_left*Q*S_right;\n",
    "\n",
    "    trace_t = 1/2*trace_mat(Cov_X*R);\n",
    "    I_s = norm_t + trace_t + beta*I_s_d_Const_part;\n",
    "    println(\"beta=%f I_s=%f\\n\",beta,I_s);\n",
    "\n",
    "\n",
    "    K = (N_c-1)*min(H_p); # normalization proposed in Balduzzi & Tononi, 2008, PLoS Comp Biol\n",
    "\n",
    "    ## \n",
    "\n",
    "    phi_H_raw = sum(H_cond_p2) - H_cond2; # conditional entropy-based integrated information\n",
    "    phi_H_norm = phi_H[1]/K;\n",
    "    phi_H = (phi_H_raw, phi_H_norm)\n",
    "\n",
    "    phi_MI_raw = I - sum(I_p); # mutual information-based integrated information\n",
    "    phi_MI_norm = phi_MI[1]/K;\n",
    "    phi_MI = (phi_MI_raw, phi_MI_norm)\n",
    "\n",
    "    phi_star_raw = I - I_s; # our proposed measure of integrated information\n",
    "    phi_star_norm = phi_star[1]/K;\n",
    "    phi_star = (phi_star_raw, phi_star_norm)\n",
    "                    \n",
    "    return phi_star, I, H_cond, phi_MI, phi_H, beta\n",
    "\n",
    "end"
   ]
  },
  {
   "cell_type": "code",
   "execution_count": null,
   "metadata": {
    "collapsed": true
   },
   "outputs": [],
   "source": []
  }
 ],
 "metadata": {
  "kernelspec": {
   "display_name": "Julia 0.5.0",
   "language": "julia",
   "name": "julia-0.5"
  },
  "language_info": {
   "file_extension": ".jl",
   "mimetype": "application/julia",
   "name": "julia",
   "version": "0.5.0"
  }
 },
 "nbformat": 4,
 "nbformat_minor": 0
}
